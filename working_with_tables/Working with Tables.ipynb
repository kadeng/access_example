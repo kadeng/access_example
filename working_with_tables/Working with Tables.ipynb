{
 "cells": [
  {
   "cell_type": "markdown",
   "id": "37008bb9",
   "metadata": {},
   "source": [
    "# Beispiel für MS Access / Python / SQLite und Pandas\n",
    "\n",
    "Zunächst müssen in der Python-Umgebung die richtigen Bibliotheken installiert werden. Dazu benutzen wir die Datei [requirements.txt](requirements.txt) und installieren alle Packages die darin genannt werden."
   ]
  },
  {
   "cell_type": "code",
   "execution_count": null,
   "id": "f2c34c6c",
   "metadata": {
    "scrolled": false
   },
   "outputs": [],
   "source": [
    "!pip install  --no-input -r requirements.txt"
   ]
  },
  {
   "cell_type": "markdown",
   "id": "cc33001d",
   "metadata": {},
   "source": [
    "### Bibliotheken importieren\n",
    "\n",
    "Anschliessend importieren wir diese Libraries"
   ]
  },
  {
   "cell_type": "code",
   "execution_count": 153,
   "id": "0b071d75",
   "metadata": {},
   "outputs": [],
   "source": [
    "import pandas # Allgemeines Arbeiten mit Tabellen, wie ein Data Frame in R\n",
    "import pyodbc # Datenbanktreiber für MS Access\n",
    "import sqlalchemy as sa # Hilfsbibliothek für SQL, wird benötigt um MS Access kompatibel mit pandas zu bekommen\n",
    "import sqlite3 # Datenbanktreiber für SQLite\n",
    "import openpyxl as excel # Bibliothek die vollen Lese- und Schreibzugriff auf Excel Tabellen ermöglicht\n",
    "import os # Standardbibliothek in Python, z.B. für Dateioperationen"
   ]
  },
  {
   "cell_type": "markdown",
   "id": "42655aea",
   "metadata": {},
   "source": [
    "Wir haben eine Beispiel **MS-Access Datenbank** unter [TestDatabase.accdb](TestDatabase.accdb). Die laden wir jetzt mal, und schauen sie uns an. Dazu definieren wir aber erstmal eine Hilfsfunktion, die erlaubt uns mit einer MS-Access Datenbank zu verbinden.\n",
    "\n",
    "### Mit MS-Access Datenbank verbinden\n"
   ]
  },
  {
   "cell_type": "code",
   "execution_count": 86,
   "id": "07e50673",
   "metadata": {},
   "outputs": [],
   "source": [
    "def ms_access_connection(db_file):\n",
    "    import os\n",
    "    db_abspath = os.path.abspath(db_file)\n",
    "    print(f\"Opening {db_abspath}\")\n",
    "    connection_string = (\n",
    "        r\"DRIVER={Microsoft Access Driver (*.mdb, *.accdb)};\"\n",
    "        r\"DBQ=\" + db_abspath + \";\"\n",
    "        r\"ExtendedAnsiSQL=1;\"\n",
    "    )\n",
    "    connection_url = sa.engine.URL.create(\n",
    "        \"access+pyodbc\",\n",
    "        query={\"odbc_connect\": connection_string}\n",
    "    )\n",
    "    #msa = pyodbc.connect( db_connection_string )\n",
    "    msa = sqlalchemy.create_engine(connection_url)\n",
    "    return msa"
   ]
  },
  {
   "cell_type": "markdown",
   "id": "9dfa0d29",
   "metadata": {},
   "source": [
    "Jetzt verbinden wir uns mit der MS-Access Datenbank und nennen die Verbindung **db1**"
   ]
  },
  {
   "cell_type": "code",
   "execution_count": 88,
   "id": "afe7db5e",
   "metadata": {},
   "outputs": [
    {
     "name": "stdout",
     "output_type": "stream",
     "text": [
      "Opening C:\\Users\\VW6Z1LW\\test\\TestDatabase.accdb\n"
     ]
    }
   ],
   "source": [
    "db1 = ms_access_connection(\"TestDatabase.accdb\")"
   ]
  },
  {
   "cell_type": "markdown",
   "id": "a452f39f",
   "metadata": {},
   "source": [
    "### Lesen und Schreiben von MS-Access Datenbanken\n",
    "\n",
    "Jetzt können wir Tabellen aus der MS Access Datenbank auslesen (und ggf. auch reinschreiben)"
   ]
  },
  {
   "cell_type": "code",
   "execution_count": 67,
   "id": "24d73f27",
   "metadata": {},
   "outputs": [
    {
     "data": {
      "text/html": [
       "<div>\n",
       "<style scoped>\n",
       "    .dataframe tbody tr th:only-of-type {\n",
       "        vertical-align: middle;\n",
       "    }\n",
       "\n",
       "    .dataframe tbody tr th {\n",
       "        vertical-align: top;\n",
       "    }\n",
       "\n",
       "    .dataframe thead th {\n",
       "        text-align: right;\n",
       "    }\n",
       "</style>\n",
       "<table border=\"1\" class=\"dataframe\">\n",
       "  <thead>\n",
       "    <tr style=\"text-align: right;\">\n",
       "      <th></th>\n",
       "      <th>ID</th>\n",
       "      <th>my_json</th>\n",
       "      <th>name</th>\n",
       "      <th>age</th>\n",
       "    </tr>\n",
       "  </thead>\n",
       "  <tbody>\n",
       "    <tr>\n",
       "      <th>0</th>\n",
       "      <td>1</td>\n",
       "      <td>{ \"a\" : [1,2,3] }</td>\n",
       "      <td>guido</td>\n",
       "      <td>120</td>\n",
       "    </tr>\n",
       "    <tr>\n",
       "      <th>1</th>\n",
       "      <td>2</td>\n",
       "      <td>{\"a\" : [4,5,3] }</td>\n",
       "      <td>bert</td>\n",
       "      <td>67</td>\n",
       "    </tr>\n",
       "  </tbody>\n",
       "</table>\n",
       "</div>"
      ],
      "text/plain": [
       "   ID            my_json   name  age\n",
       "0   1  { \"a\" : [1,2,3] }  guido  120\n",
       "1   2   {\"a\" : [4,5,3] }   bert   67"
      ]
     },
     "execution_count": 67,
     "metadata": {},
     "output_type": "execute_result"
    }
   ],
   "source": [
    "example_table_data = pandas.read_sql(\"SELECT * FROM example_table\", db1)\n",
    "example_table_data"
   ]
  },
  {
   "cell_type": "markdown",
   "id": "b14827db",
   "metadata": {},
   "source": [
    "### Kopieren in eine SQLite Datenbank\n",
    "\n",
    "Um besser mit den Daten arbeitebn zu können, kopieren wir sie in eine extra dafür angelegte SQLIte Datenbank.\n",
    "Die erzeugen wir hier, und nennen sie **db2**"
   ]
  },
  {
   "cell_type": "code",
   "execution_count": 30,
   "id": "7155893d",
   "metadata": {},
   "outputs": [],
   "source": [
    "db2 = sqlite3.connect(\"meine_datenbank.sqlite\")"
   ]
  },
  {
   "cell_type": "markdown",
   "id": "9996432f",
   "metadata": {},
   "source": [
    "Jetzt können wir die Tabellendaten die wir vorhin aus MS Access gelesen haben, in die SQLite Datenbank kopieren:"
   ]
  },
  {
   "cell_type": "code",
   "execution_count": 77,
   "id": "199300b4",
   "metadata": {},
   "outputs": [
    {
     "data": {
      "text/plain": [
       "2"
      ]
     },
     "execution_count": 77,
     "metadata": {},
     "output_type": "execute_result"
    }
   ],
   "source": [
    "example_table_data.to_sql(\"example_table\", db2, if_exists='replace')"
   ]
  },
  {
   "cell_type": "markdown",
   "id": "59af41dd",
   "metadata": {},
   "source": [
    "### Benutzerdefinierte Funktionen für SQLIte mit Python\n",
    "\n",
    "Das schöne an sqlite3 ist, dass wir ganz einfach Funktionen in Python schreiben können, die wir dann in Datenbankabfragen verwenden können. Diese Funktion z.B. parst einen JSON String, interpretiert ihn als kleine Tabelle, und gibt den Wert einer Zelle zurück, die anhand von Spaltenname und Zeilenindex gefunden wurde. ( Falls nichts gefunden werden konnte, wird nichts zurückgegeben)"
   ]
  },
  {
   "cell_type": "code",
   "execution_count": 72,
   "id": "dcad50be",
   "metadata": {},
   "outputs": [],
   "source": [
    "import json # Für dieses Beispiel brauchen wir die JSON Bibliothek, die ist bei Python immer dabei\n",
    "\n",
    "def get_field(js, column, index):\n",
    "    try:\n",
    "        ds = json.loads(js) # Einen String parsen. Damit wird dann aus sowas wie \"{'a' : [1,2,3]}\" ein Dictionary-Objekt\n",
    "        if column in ds:\n",
    "            col = ds[column]\n",
    "            if len(col)>index:\n",
    "                return col[index]\n",
    "        return None\n",
    "    except:\n",
    "        return None"
   ]
  },
  {
   "cell_type": "markdown",
   "id": "c1dbd1fe",
   "metadata": {},
   "source": [
    "Jetzt können wir diese Funktion als Datenbankfunktion mit SQLite registrieren. Sie bekommt den Namen \"get_field\", und hat 3 Parameter, das müssen wir hier mit angeben."
   ]
  },
  {
   "cell_type": "code",
   "execution_count": 154,
   "id": "a51934f5",
   "metadata": {},
   "outputs": [],
   "source": [
    "db2.create_function('get_field', 3, get_field)"
   ]
  },
  {
   "cell_type": "markdown",
   "id": "cb56f43f",
   "metadata": {},
   "source": [
    "Jetzt kann sie in SQL Abfragen verwendet werden."
   ]
  },
  {
   "cell_type": "code",
   "execution_count": 78,
   "id": "784c124d",
   "metadata": {},
   "outputs": [
    {
     "data": {
      "text/html": [
       "<div>\n",
       "<style scoped>\n",
       "    .dataframe tbody tr th:only-of-type {\n",
       "        vertical-align: middle;\n",
       "    }\n",
       "\n",
       "    .dataframe tbody tr th {\n",
       "        vertical-align: top;\n",
       "    }\n",
       "\n",
       "    .dataframe thead th {\n",
       "        text-align: right;\n",
       "    }\n",
       "</style>\n",
       "<table border=\"1\" class=\"dataframe\">\n",
       "  <thead>\n",
       "    <tr style=\"text-align: right;\">\n",
       "      <th></th>\n",
       "      <th>name</th>\n",
       "      <th>interesting_field</th>\n",
       "      <th>age</th>\n",
       "    </tr>\n",
       "  </thead>\n",
       "  <tbody>\n",
       "    <tr>\n",
       "      <th>0</th>\n",
       "      <td>guido</td>\n",
       "      <td>2</td>\n",
       "      <td>120</td>\n",
       "    </tr>\n",
       "    <tr>\n",
       "      <th>1</th>\n",
       "      <td>bert</td>\n",
       "      <td>5</td>\n",
       "      <td>67</td>\n",
       "    </tr>\n",
       "  </tbody>\n",
       "</table>\n",
       "</div>"
      ],
      "text/plain": [
       "    name  interesting_field  age\n",
       "0  guido                  2  120\n",
       "1   bert                  5   67"
      ]
     },
     "execution_count": 78,
     "metadata": {},
     "output_type": "execute_result"
    }
   ],
   "source": [
    "pandas.read_sql(\"\"\"\n",
    "    SELECT name, get_field(my_json, \"a\", 1) as interesting_field, age FROM example_table\n",
    "\"\"\", db2)"
   ]
  },
  {
   "cell_type": "markdown",
   "id": "6c3b55f7",
   "metadata": {},
   "source": [
    "Machen wir mal eine kleine Mini-Auswertung mit ihrer Hilfe"
   ]
  },
  {
   "cell_type": "code",
   "execution_count": 80,
   "id": "f0d360fa",
   "metadata": {},
   "outputs": [
    {
     "data": {
      "text/html": [
       "<div>\n",
       "<style scoped>\n",
       "    .dataframe tbody tr th:only-of-type {\n",
       "        vertical-align: middle;\n",
       "    }\n",
       "\n",
       "    .dataframe tbody tr th {\n",
       "        vertical-align: top;\n",
       "    }\n",
       "\n",
       "    .dataframe thead th {\n",
       "        text-align: right;\n",
       "    }\n",
       "</style>\n",
       "<table border=\"1\" class=\"dataframe\">\n",
       "  <thead>\n",
       "    <tr style=\"text-align: right;\">\n",
       "      <th></th>\n",
       "      <th>name</th>\n",
       "      <th>interesting_field</th>\n",
       "      <th>age</th>\n",
       "    </tr>\n",
       "  </thead>\n",
       "  <tbody>\n",
       "    <tr>\n",
       "      <th>0</th>\n",
       "      <td>bert</td>\n",
       "      <td>5</td>\n",
       "      <td>67</td>\n",
       "    </tr>\n",
       "  </tbody>\n",
       "</table>\n",
       "</div>"
      ],
      "text/plain": [
       "   name  interesting_field  age\n",
       "0  bert                  5   67"
      ]
     },
     "execution_count": 80,
     "metadata": {},
     "output_type": "execute_result"
    }
   ],
   "source": [
    "auswertung = pandas.read_sql(\"\"\"\n",
    "    SELECT name, get_field(my_json, \"a\", 1) as interesting_field, age from example_table where interesting_field>2\n",
    "\"\"\", db2)\n",
    "auswertung"
   ]
  },
  {
   "cell_type": "markdown",
   "id": "880bcada",
   "metadata": {},
   "source": [
    "### Auswertungsergebnisse in MS-Access speichern\n",
    "\n",
    "Und speichern die Ergebnisse dieser Auswertung als neue Tabelle in der MS Access Datenbank:"
   ]
  },
  {
   "cell_type": "code",
   "execution_count": 81,
   "id": "6d66075e",
   "metadata": {},
   "outputs": [
    {
     "data": {
      "text/plain": [
       "-1"
      ]
     },
     "execution_count": 81,
     "metadata": {},
     "output_type": "execute_result"
    }
   ],
   "source": [
    "auswertung.to_sql(\"auswertung_aus_python\", db1)"
   ]
  },
  {
   "cell_type": "code",
   "execution_count": 82,
   "id": "fcde5bf8",
   "metadata": {},
   "outputs": [
    {
     "data": {
      "text/html": [
       "<div>\n",
       "<style scoped>\n",
       "    .dataframe tbody tr th:only-of-type {\n",
       "        vertical-align: middle;\n",
       "    }\n",
       "\n",
       "    .dataframe tbody tr th {\n",
       "        vertical-align: top;\n",
       "    }\n",
       "\n",
       "    .dataframe thead th {\n",
       "        text-align: right;\n",
       "    }\n",
       "</style>\n",
       "<table border=\"1\" class=\"dataframe\">\n",
       "  <thead>\n",
       "    <tr style=\"text-align: right;\">\n",
       "      <th></th>\n",
       "      <th>index</th>\n",
       "      <th>name</th>\n",
       "      <th>interesting_field</th>\n",
       "      <th>age</th>\n",
       "    </tr>\n",
       "  </thead>\n",
       "  <tbody>\n",
       "    <tr>\n",
       "      <th>0</th>\n",
       "      <td>0</td>\n",
       "      <td>bert</td>\n",
       "      <td>5</td>\n",
       "      <td>67</td>\n",
       "    </tr>\n",
       "  </tbody>\n",
       "</table>\n",
       "</div>"
      ],
      "text/plain": [
       "   index  name  interesting_field  age\n",
       "0      0  bert                  5   67"
      ]
     },
     "execution_count": 82,
     "metadata": {},
     "output_type": "execute_result"
    }
   ],
   "source": [
    "pandas.read_sql(\"SELECT * FROM auswertung_aus_python\", db1)"
   ]
  },
  {
   "cell_type": "markdown",
   "id": "6a14df8a",
   "metadata": {},
   "source": [
    "## Arbeiten mit Excel-Tabellen\n",
    "\n",
    "Das war es erstmal. Jetzt schauen wir, wie man kombinierte oder gesplittete Zellen aus Excel Tabellen in den Griff bekommt, mit Hilfe der openpyxl Library. Die haben wir unter dem Namen \"excel\" importiert. Die Doku dazu findet man hier: [Openpyxl Dokumentation](https://openpyxl.readthedocs.io/en/stable/)\n",
    "\n",
    "Neben Openpyxel, hat **pandas** allerdings auch sehr gute Funktionen um Excel-Tabellen zu lesen und zu schreiben. Openpyxel braucht man vor allem, wenn man fortgeschrittene Features braucht ( z.B. Zellen verbinden möchte, Formatierungen ändern will, Formeln anpassen oder ähnliches ). \n",
    "\n",
    "Pandas hingegen betrachtet Excel-Tabellen einfach als eine Sammlung von simplen Datentabellen.\n",
    "\n",
    "Generell gilt: \n",
    "\n",
    " * **pandas** verwenden wir meistens, um Daten aus Excel Tabellen zu lesen und zu schreiben.\n",
    " * **openpyxl** verwenden wir meistens, um Excel Tabellen programmatisch umzuformatieren oder komplexere Excel-Tabellen auszulesen.\n",
    " \n",
    " \n",
    " *Nicht vergessen*: Im folgenden benutzen wir \"excel\" als alias für \"openpyxl\", weil es einfacher zu schreiben und leichter zu merken ist."
   ]
  },
  {
   "cell_type": "code",
   "execution_count": 155,
   "id": "609e30d5",
   "metadata": {},
   "outputs": [
    {
     "data": {
      "text/html": [
       "<div>\n",
       "<style scoped>\n",
       "    .dataframe tbody tr th:only-of-type {\n",
       "        vertical-align: middle;\n",
       "    }\n",
       "\n",
       "    .dataframe tbody tr th {\n",
       "        vertical-align: top;\n",
       "    }\n",
       "\n",
       "    .dataframe thead th {\n",
       "        text-align: right;\n",
       "    }\n",
       "</style>\n",
       "<table border=\"1\" class=\"dataframe\">\n",
       "  <thead>\n",
       "    <tr style=\"text-align: right;\">\n",
       "      <th></th>\n",
       "      <th>Name</th>\n",
       "      <th>Alter</th>\n",
       "      <th>Info</th>\n",
       "      <th>Counter</th>\n",
       "    </tr>\n",
       "  </thead>\n",
       "  <tbody>\n",
       "    <tr>\n",
       "      <th>0</th>\n",
       "      <td>Kurt</td>\n",
       "      <td>39.0</td>\n",
       "      <td>was</td>\n",
       "      <td>23</td>\n",
       "    </tr>\n",
       "    <tr>\n",
       "      <th>1</th>\n",
       "      <td>NaN</td>\n",
       "      <td>NaN</td>\n",
       "      <td>auch</td>\n",
       "      <td>23</td>\n",
       "    </tr>\n",
       "    <tr>\n",
       "      <th>2</th>\n",
       "      <td>NaN</td>\n",
       "      <td>NaN</td>\n",
       "      <td>immer</td>\n",
       "      <td>42</td>\n",
       "    </tr>\n",
       "    <tr>\n",
       "      <th>3</th>\n",
       "      <td>Bert</td>\n",
       "      <td>239.0</td>\n",
       "      <td>wie</td>\n",
       "      <td>55</td>\n",
       "    </tr>\n",
       "    <tr>\n",
       "      <th>4</th>\n",
       "      <td>NaN</td>\n",
       "      <td>NaN</td>\n",
       "      <td>dem</td>\n",
       "      <td>110</td>\n",
       "    </tr>\n",
       "    <tr>\n",
       "      <th>5</th>\n",
       "      <td>NaN</td>\n",
       "      <td>NaN</td>\n",
       "      <td>auch</td>\n",
       "      <td>220</td>\n",
       "    </tr>\n",
       "    <tr>\n",
       "      <th>6</th>\n",
       "      <td>NaN</td>\n",
       "      <td>NaN</td>\n",
       "      <td>sei</td>\n",
       "      <td>440</td>\n",
       "    </tr>\n",
       "  </tbody>\n",
       "</table>\n",
       "</div>"
      ],
      "text/plain": [
       "   Name  Alter   Info  Counter\n",
       "0  Kurt   39.0    was       23\n",
       "1   NaN    NaN   auch       23\n",
       "2   NaN    NaN  immer       42\n",
       "3  Bert  239.0    wie       55\n",
       "4   NaN    NaN    dem      110\n",
       "5   NaN    NaN   auch      220\n",
       "6   NaN    NaN    sei      440"
      ]
     },
     "execution_count": 155,
     "metadata": {},
     "output_type": "execute_result"
    }
   ],
   "source": [
    "# Laden des ersten Worksheets einer Excel Tabelle mit Hilfe von Pandas\n",
    "pandas.read_excel(\"Mappe1.xlsx\")"
   ]
  },
  {
   "cell_type": "code",
   "execution_count": 114,
   "id": "340dceeb",
   "metadata": {},
   "outputs": [],
   "source": [
    "# Laden wir die gleiche Tabellen mit Openpyxl\n",
    "workbook = excel.open(\"Mappe1.xlsx\")"
   ]
  },
  {
   "cell_type": "code",
   "execution_count": 156,
   "id": "1eb97324",
   "metadata": {},
   "outputs": [],
   "source": [
    "# Schauen wir uns ein bestimmtes Arbeitsblatt in Excel an:\n",
    "sheet = workbook[\"Tabelle1\"]"
   ]
  },
  {
   "cell_type": "code",
   "execution_count": 157,
   "id": "f9ee197d",
   "metadata": {},
   "outputs": [
    {
     "data": {
      "text/plain": [
       "'Kurt'"
      ]
     },
     "execution_count": 157,
     "metadata": {},
     "output_type": "execute_result"
    }
   ],
   "source": [
    "# Und greifen wir auf eine bestimmte Zelle zu ( wir könnten sie auch ändern )\n",
    "sheet['A2'].value"
   ]
  },
  {
   "cell_type": "code",
   "execution_count": 161,
   "id": "4c3424d0",
   "metadata": {},
   "outputs": [],
   "source": [
    "# Ändern wir sie mal\n",
    "sheet['A2'].value = 'Herbert'"
   ]
  },
  {
   "cell_type": "code",
   "execution_count": 162,
   "id": "d3e24b0c",
   "metadata": {},
   "outputs": [
    {
     "data": {
      "text/plain": [
       "[('Name', 'Alter', 'Info', 'Counter'),\n",
       " ('Herbert', 39, 'was', 23),\n",
       " (None, None, 'auch', 23),\n",
       " (None, None, 'immer', 42),\n",
       " ('Bert', 239, 'wie', 55),\n",
       " (None, None, 'dem', '=D5*2'),\n",
       " (None, None, 'auch', '=D6*2'),\n",
       " (None, None, 'sei', '=D7*2')]"
      ]
     },
     "execution_count": 162,
     "metadata": {},
     "output_type": "execute_result"
    }
   ],
   "source": [
    "# Wie man sieht, werden auch Formeln als solche angezeigt wenn man mit Openpyxl arbeitet.\n",
    "list(sheet.values)"
   ]
  },
  {
   "cell_type": "code",
   "execution_count": 122,
   "id": "5372d8cf",
   "metadata": {},
   "outputs": [
    {
     "data": {
      "text/plain": [
       "'=D6*2'"
      ]
     },
     "execution_count": 122,
     "metadata": {},
     "output_type": "execute_result"
    }
   ],
   "source": [
    "cell = sheet['D7']\n",
    "cell.value"
   ]
  },
  {
   "cell_type": "markdown",
   "id": "846b76ba",
   "metadata": {},
   "source": [
    "### Nur die Daten aus Excel Tabellen laden ( statt Formeln )"
   ]
  },
  {
   "cell_type": "code",
   "execution_count": 163,
   "id": "44db0c53",
   "metadata": {},
   "outputs": [],
   "source": [
    "# Wenn wir nicht mit den Formeln, sondern nur mit den Werten arbeiten wollen, müssen wir beim laden \"data_only=True\"\n",
    "# angeben, dann werden die letzten von Excel berechneten Werte benutzt statt der Formeln.\n",
    "# Aber Vorsicht: Wenn man dann speichert, sind die Formeln auch wirklich weg.\n",
    "workbook2 = excel.open(\"Mappe1.xlsx\", data_only=True)\n",
    "sheet2 = workbook2[\"Tabelle1\"]"
   ]
  },
  {
   "cell_type": "code",
   "execution_count": 164,
   "id": "c9ef85ac",
   "metadata": {},
   "outputs": [
    {
     "data": {
      "text/plain": [
       "220"
      ]
     },
     "execution_count": 164,
     "metadata": {},
     "output_type": "execute_result"
    }
   ],
   "source": [
    "# Jetzt sind in sheet2 nur die berechneten Werte, nicht die Formeln\n",
    "cell2 = sheet2['D7']\n",
    "cell2.value"
   ]
  },
  {
   "cell_type": "markdown",
   "id": "eda5be21",
   "metadata": {},
   "source": [
    "#### Zellen programmatisch verschmelzen oder wieder trennen"
   ]
  },
  {
   "cell_type": "code",
   "execution_count": 165,
   "id": "5a82b900",
   "metadata": {},
   "outputs": [],
   "source": [
    "# Man kann mit Openpyxl auch Zellen programmatisch verschmelzen\n",
    "sheet2.merge_cells(\"A2:A4\")\n",
    "sheet2.merge_cells(\"A5:A8\")\n"
   ]
  },
  {
   "cell_type": "code",
   "execution_count": null,
   "id": "eabe8703",
   "metadata": {},
   "outputs": [],
   "source": [
    "# In diesem Workbook sind die Zellen jetzt verschmolzen, gerne in Excel anschauen...\n",
    "workbook2.save(\"Mappe_merged.xlsx\")"
   ]
  },
  {
   "cell_type": "code",
   "execution_count": 167,
   "id": "cb43e035",
   "metadata": {},
   "outputs": [],
   "source": [
    "# Man kann das verschmelzen auch Rückgängig machen\n",
    "sheet2.unmerge_cells(\"A2:A4\")\n",
    "sheet2.unmerge_cells(\"A5:A8\")"
   ]
  },
  {
   "cell_type": "markdown",
   "id": "7f8f5ab2",
   "metadata": {},
   "source": [
    "### Verschmolzene Zellen auffüllen aus den vorhergehenden Zeilen\n"
   ]
  },
  {
   "cell_type": "code",
   "execution_count": 188,
   "id": "e33b7d37",
   "metadata": {},
   "outputs": [],
   "source": [
    "# Wir brauchen dazu eine Tabelle mit verschmolzenen Zellen, also laden wir die\n",
    "df_merged = pandas.read_excel(\"Mappe_merged.xlsx\")"
   ]
  },
  {
   "cell_type": "code",
   "execution_count": 185,
   "id": "def8fc51",
   "metadata": {},
   "outputs": [
    {
     "data": {
      "text/html": [
       "<div>\n",
       "<style scoped>\n",
       "    .dataframe tbody tr th:only-of-type {\n",
       "        vertical-align: middle;\n",
       "    }\n",
       "\n",
       "    .dataframe tbody tr th {\n",
       "        vertical-align: top;\n",
       "    }\n",
       "\n",
       "    .dataframe thead th {\n",
       "        text-align: right;\n",
       "    }\n",
       "</style>\n",
       "<table border=\"1\" class=\"dataframe\">\n",
       "  <thead>\n",
       "    <tr style=\"text-align: right;\">\n",
       "      <th></th>\n",
       "      <th>Name</th>\n",
       "      <th>Alter</th>\n",
       "      <th>Info</th>\n",
       "      <th>Counter</th>\n",
       "    </tr>\n",
       "  </thead>\n",
       "  <tbody>\n",
       "    <tr>\n",
       "      <th>0</th>\n",
       "      <td>Kurt</td>\n",
       "      <td>39.0</td>\n",
       "      <td>was</td>\n",
       "      <td>23</td>\n",
       "    </tr>\n",
       "    <tr>\n",
       "      <th>1</th>\n",
       "      <td>NaN</td>\n",
       "      <td>NaN</td>\n",
       "      <td>auch</td>\n",
       "      <td>23</td>\n",
       "    </tr>\n",
       "    <tr>\n",
       "      <th>2</th>\n",
       "      <td>NaN</td>\n",
       "      <td>NaN</td>\n",
       "      <td>immer</td>\n",
       "      <td>42</td>\n",
       "    </tr>\n",
       "    <tr>\n",
       "      <th>3</th>\n",
       "      <td>Bert</td>\n",
       "      <td>239.0</td>\n",
       "      <td>wie</td>\n",
       "      <td>55</td>\n",
       "    </tr>\n",
       "    <tr>\n",
       "      <th>4</th>\n",
       "      <td>NaN</td>\n",
       "      <td>NaN</td>\n",
       "      <td>dem</td>\n",
       "      <td>110</td>\n",
       "    </tr>\n",
       "    <tr>\n",
       "      <th>5</th>\n",
       "      <td>NaN</td>\n",
       "      <td>NaN</td>\n",
       "      <td>auch</td>\n",
       "      <td>220</td>\n",
       "    </tr>\n",
       "    <tr>\n",
       "      <th>6</th>\n",
       "      <td>NaN</td>\n",
       "      <td>NaN</td>\n",
       "      <td>sei</td>\n",
       "      <td>440</td>\n",
       "    </tr>\n",
       "  </tbody>\n",
       "</table>\n",
       "</div>"
      ],
      "text/plain": [
       "   Name  Alter   Info  Counter\n",
       "0  Kurt   39.0    was       23\n",
       "1   NaN    NaN   auch       23\n",
       "2   NaN    NaN  immer       42\n",
       "3  Bert  239.0    wie       55\n",
       "4   NaN    NaN    dem      110\n",
       "5   NaN    NaN   auch      220\n",
       "6   NaN    NaN    sei      440"
      ]
     },
     "execution_count": 185,
     "metadata": {},
     "output_type": "execute_result"
    }
   ],
   "source": [
    "df_merged"
   ]
  },
  {
   "cell_type": "code",
   "execution_count": 189,
   "id": "9e367889",
   "metadata": {},
   "outputs": [
    {
     "data": {
      "text/html": [
       "<div>\n",
       "<style scoped>\n",
       "    .dataframe tbody tr th:only-of-type {\n",
       "        vertical-align: middle;\n",
       "    }\n",
       "\n",
       "    .dataframe tbody tr th {\n",
       "        vertical-align: top;\n",
       "    }\n",
       "\n",
       "    .dataframe thead th {\n",
       "        text-align: right;\n",
       "    }\n",
       "</style>\n",
       "<table border=\"1\" class=\"dataframe\">\n",
       "  <thead>\n",
       "    <tr style=\"text-align: right;\">\n",
       "      <th></th>\n",
       "      <th>Name</th>\n",
       "      <th>Alter</th>\n",
       "      <th>Info</th>\n",
       "      <th>Counter</th>\n",
       "    </tr>\n",
       "  </thead>\n",
       "  <tbody>\n",
       "    <tr>\n",
       "      <th>0</th>\n",
       "      <td>Kurt</td>\n",
       "      <td>39.0</td>\n",
       "      <td>was</td>\n",
       "      <td>23</td>\n",
       "    </tr>\n",
       "    <tr>\n",
       "      <th>1</th>\n",
       "      <td>Kurt</td>\n",
       "      <td>39.0</td>\n",
       "      <td>auch</td>\n",
       "      <td>23</td>\n",
       "    </tr>\n",
       "    <tr>\n",
       "      <th>2</th>\n",
       "      <td>Kurt</td>\n",
       "      <td>39.0</td>\n",
       "      <td>immer</td>\n",
       "      <td>42</td>\n",
       "    </tr>\n",
       "    <tr>\n",
       "      <th>3</th>\n",
       "      <td>Bert</td>\n",
       "      <td>239.0</td>\n",
       "      <td>wie</td>\n",
       "      <td>55</td>\n",
       "    </tr>\n",
       "    <tr>\n",
       "      <th>4</th>\n",
       "      <td>Bert</td>\n",
       "      <td>239.0</td>\n",
       "      <td>dem</td>\n",
       "      <td>110</td>\n",
       "    </tr>\n",
       "    <tr>\n",
       "      <th>5</th>\n",
       "      <td>Bert</td>\n",
       "      <td>239.0</td>\n",
       "      <td>auch</td>\n",
       "      <td>220</td>\n",
       "    </tr>\n",
       "    <tr>\n",
       "      <th>6</th>\n",
       "      <td>Bert</td>\n",
       "      <td>239.0</td>\n",
       "      <td>sei</td>\n",
       "      <td>440</td>\n",
       "    </tr>\n",
       "  </tbody>\n",
       "</table>\n",
       "</div>"
      ],
      "text/plain": [
       "   Name  Alter   Info  Counter\n",
       "0  Kurt   39.0    was       23\n",
       "1  Kurt   39.0   auch       23\n",
       "2  Kurt   39.0  immer       42\n",
       "3  Bert  239.0    wie       55\n",
       "4  Bert  239.0    dem      110\n",
       "5  Bert  239.0   auch      220\n",
       "6  Bert  239.0    sei      440"
      ]
     },
     "execution_count": 189,
     "metadata": {},
     "output_type": "execute_result"
    }
   ],
   "source": [
    "# Jetzt ersetzen wir fehlende Werte einfach aus der vorherigen Zeile\n",
    "df_expanded = df_merged.fillna(method='ffill')\n",
    "df_expanded"
   ]
  },
  {
   "cell_type": "code",
   "execution_count": 191,
   "id": "959ce4a4",
   "metadata": {},
   "outputs": [],
   "source": [
    "# Und das ganze können wir jetzt auch wieder speichern. Vielleicht diesmal, ohne den Index:\n",
    "df_expanded.to_excel(\"Mappe_merged_expanded.xlsx\", index=False)"
   ]
  },
  {
   "cell_type": "markdown",
   "id": "595f2fd8",
   "metadata": {},
   "source": [
    "### Laden eines anderen als des ersten Arbeitsblatts aus einer Excel Tabelle"
   ]
  },
  {
   "cell_type": "code",
   "execution_count": 193,
   "id": "168fc234",
   "metadata": {},
   "outputs": [
    {
     "data": {
      "text/html": [
       "<div>\n",
       "<style scoped>\n",
       "    .dataframe tbody tr th:only-of-type {\n",
       "        vertical-align: middle;\n",
       "    }\n",
       "\n",
       "    .dataframe tbody tr th {\n",
       "        vertical-align: top;\n",
       "    }\n",
       "\n",
       "    .dataframe thead th {\n",
       "        text-align: right;\n",
       "    }\n",
       "</style>\n",
       "<table border=\"1\" class=\"dataframe\">\n",
       "  <thead>\n",
       "    <tr style=\"text-align: right;\">\n",
       "      <th></th>\n",
       "      <th>Name</th>\n",
       "      <th>Alter</th>\n",
       "      <th>Info</th>\n",
       "      <th>Counter</th>\n",
       "    </tr>\n",
       "  </thead>\n",
       "  <tbody>\n",
       "    <tr>\n",
       "      <th>0</th>\n",
       "      <td>Kurt</td>\n",
       "      <td>39</td>\n",
       "      <td>was</td>\n",
       "      <td>23</td>\n",
       "    </tr>\n",
       "    <tr>\n",
       "      <th>1</th>\n",
       "      <td>Kurt</td>\n",
       "      <td>39</td>\n",
       "      <td>auch</td>\n",
       "      <td>23</td>\n",
       "    </tr>\n",
       "    <tr>\n",
       "      <th>2</th>\n",
       "      <td>Kurt</td>\n",
       "      <td>39</td>\n",
       "      <td>immer</td>\n",
       "      <td>42</td>\n",
       "    </tr>\n",
       "    <tr>\n",
       "      <th>3</th>\n",
       "      <td>Bert</td>\n",
       "      <td>239</td>\n",
       "      <td>wie</td>\n",
       "      <td>55</td>\n",
       "    </tr>\n",
       "    <tr>\n",
       "      <th>4</th>\n",
       "      <td>Bert</td>\n",
       "      <td>239</td>\n",
       "      <td>dem</td>\n",
       "      <td>110</td>\n",
       "    </tr>\n",
       "    <tr>\n",
       "      <th>5</th>\n",
       "      <td>Bert</td>\n",
       "      <td>239</td>\n",
       "      <td>auch</td>\n",
       "      <td>220</td>\n",
       "    </tr>\n",
       "    <tr>\n",
       "      <th>6</th>\n",
       "      <td>Bert</td>\n",
       "      <td>239</td>\n",
       "      <td>sei</td>\n",
       "      <td>440</td>\n",
       "    </tr>\n",
       "  </tbody>\n",
       "</table>\n",
       "</div>"
      ],
      "text/plain": [
       "   Name  Alter   Info  Counter\n",
       "0  Kurt     39    was       23\n",
       "1  Kurt     39   auch       23\n",
       "2  Kurt     39  immer       42\n",
       "3  Bert    239    wie       55\n",
       "4  Bert    239    dem      110\n",
       "5  Bert    239   auch      220\n",
       "6  Bert    239    sei      440"
      ]
     },
     "execution_count": 193,
     "metadata": {},
     "output_type": "execute_result"
    }
   ],
   "source": [
    "# Mit dem Parameter \"sheet_name\" können wir angeben, welches Arbeitsblatt wir lesen wollen\n",
    "pandas.read_excel(\"Mappe_merged_expanded.xlsx\", sheet_name=\"Sheet1\")"
   ]
  },
  {
   "cell_type": "markdown",
   "id": "4d666566",
   "metadata": {},
   "source": [
    "### Auswertungen / Gruppieren mit Hilfe von Pandas"
   ]
  },
  {
   "cell_type": "code",
   "execution_count": 194,
   "id": "be17cd03",
   "metadata": {},
   "outputs": [
    {
     "data": {
      "text/html": [
       "<div>\n",
       "<style scoped>\n",
       "    .dataframe tbody tr th:only-of-type {\n",
       "        vertical-align: middle;\n",
       "    }\n",
       "\n",
       "    .dataframe tbody tr th {\n",
       "        vertical-align: top;\n",
       "    }\n",
       "\n",
       "    .dataframe thead th {\n",
       "        text-align: right;\n",
       "    }\n",
       "</style>\n",
       "<table border=\"1\" class=\"dataframe\">\n",
       "  <thead>\n",
       "    <tr style=\"text-align: right;\">\n",
       "      <th></th>\n",
       "      <th>Name</th>\n",
       "      <th>Alter</th>\n",
       "      <th>Counter</th>\n",
       "    </tr>\n",
       "  </thead>\n",
       "  <tbody>\n",
       "    <tr>\n",
       "      <th>0</th>\n",
       "      <td>Bert</td>\n",
       "      <td>239.0</td>\n",
       "      <td>55</td>\n",
       "    </tr>\n",
       "    <tr>\n",
       "      <th>1</th>\n",
       "      <td>Kurt</td>\n",
       "      <td>39.0</td>\n",
       "      <td>23</td>\n",
       "    </tr>\n",
       "  </tbody>\n",
       "</table>\n",
       "</div>"
      ],
      "text/plain": [
       "   Name  Alter  Counter\n",
       "0  Bert  239.0       55\n",
       "1  Kurt   39.0       23"
      ]
     },
     "execution_count": 194,
     "metadata": {},
     "output_type": "execute_result"
    }
   ],
   "source": [
    "# Gruppieren nach Name und Alter, \n",
    "# dann für jede eindeutige Kombination von Name und Alter den Mindestwert von Counter bestimmen\n",
    "df_expanded.groupby([\"Name\", \"Alter\"], as_index=False).Counter.min()"
   ]
  },
  {
   "cell_type": "markdown",
   "id": "f194f1db",
   "metadata": {},
   "source": [
    "### Kombinierte Auswertungen / Excel, Datenbanken, Pandas und mehr .."
   ]
  },
  {
   "cell_type": "code",
   "execution_count": 195,
   "id": "33c22505",
   "metadata": {},
   "outputs": [
    {
     "data": {
      "text/html": [
       "<div>\n",
       "<style scoped>\n",
       "    .dataframe tbody tr th:only-of-type {\n",
       "        vertical-align: middle;\n",
       "    }\n",
       "\n",
       "    .dataframe tbody tr th {\n",
       "        vertical-align: top;\n",
       "    }\n",
       "\n",
       "    .dataframe thead th {\n",
       "        text-align: right;\n",
       "    }\n",
       "</style>\n",
       "<table border=\"1\" class=\"dataframe\">\n",
       "  <thead>\n",
       "    <tr style=\"text-align: right;\">\n",
       "      <th></th>\n",
       "      <th>Name</th>\n",
       "      <th>Alter</th>\n",
       "      <th>Counter</th>\n",
       "    </tr>\n",
       "  </thead>\n",
       "  <tbody>\n",
       "    <tr>\n",
       "      <th>0</th>\n",
       "      <td>Bert</td>\n",
       "      <td>239.0</td>\n",
       "      <td>440</td>\n",
       "    </tr>\n",
       "    <tr>\n",
       "      <th>1</th>\n",
       "      <td>Kurt</td>\n",
       "      <td>39.0</td>\n",
       "      <td>42</td>\n",
       "    </tr>\n",
       "  </tbody>\n",
       "</table>\n",
       "</div>"
      ],
      "text/plain": [
       "   Name  Alter  Counter\n",
       "0  Bert  239.0      440\n",
       "1  Kurt   39.0       42"
      ]
     },
     "execution_count": 195,
     "metadata": {},
     "output_type": "execute_result"
    }
   ],
   "source": [
    "# Oder das Maximum\n",
    "df_expanded.groupby([\"Name\", \"Alter\"], as_index=False).Counter.max()"
   ]
  },
  {
   "cell_type": "code",
   "execution_count": 199,
   "id": "98d72269",
   "metadata": {},
   "outputs": [
    {
     "data": {
      "text/plain": [
       "-1"
      ]
     },
     "execution_count": 199,
     "metadata": {},
     "output_type": "execute_result"
    }
   ],
   "source": [
    "# So eine Auswertung kann man auch einfach in einer MS-Access Tabelle speichern\n",
    "df_expanded.groupby([\"Name\", \"Alter\"], as_index=False).Counter.min().to_sql(\"max_counter_auswertung\", db1,\n",
    "                                                                            if_exists=\"replace\")"
   ]
  },
  {
   "cell_type": "code",
   "execution_count": 202,
   "id": "06f71fad",
   "metadata": {},
   "outputs": [
    {
     "data": {
      "text/plain": [
       "-1"
      ]
     },
     "execution_count": 202,
     "metadata": {},
     "output_type": "execute_result"
    }
   ],
   "source": [
    "# Man kann natürlch auch die Tabelle die wir vorhin in Excel hatten, jetzt in MS-Access hineinkopieren..\n",
    "df_expanded.to_sql(\"df_expanded\", db1, if_exists=\"replace\")"
   ]
  }
 ],
 "metadata": {
  "kernelspec": {
   "display_name": "Python 3 (ipykernel)",
   "language": "python",
   "name": "python3"
  },
  "language_info": {
   "codemirror_mode": {
    "name": "ipython",
    "version": 3
   },
   "file_extension": ".py",
   "mimetype": "text/x-python",
   "name": "python",
   "nbconvert_exporter": "python",
   "pygments_lexer": "ipython3",
   "version": "3.10.4"
  }
 },
 "nbformat": 4,
 "nbformat_minor": 5
}
